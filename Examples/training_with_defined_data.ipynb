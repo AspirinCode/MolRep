{
 "metadata": {
  "language_info": {
   "codemirror_mode": {
    "name": "ipython",
    "version": 3
   },
   "file_extension": ".py",
   "mimetype": "text/x-python",
   "name": "python",
   "nbconvert_exporter": "python",
   "pygments_lexer": "ipython3",
   "version": 3
  },
  "orig_nbformat": 2
 },
 "nbformat": 4,
 "nbformat_minor": 2,
 "cells": [
  {
   "cell_type": "code",
   "execution_count": null,
   "metadata": {},
   "outputs": [],
   "source": [
    "import os\n",
    "from MolRep import MolRep\n",
    "from MolRep.Utils.logger import Logger\n",
    "from MolRep.Utils.config_from_dict import Config\n",
    "from MolRep.Experiments.experiments import EndToEndExperiment"
   ]
  },
  {
   "cell_type": "code",
   "execution_count": null,
   "metadata": {},
   "outputs": [],
   "source": [
    "OUTPUT_DIR = 'Outputs/'\n",
    "_CONFIG_BASE = 'config_'\n",
    "_CONFIG_FILENAME = 'config_results.json'\n",
    "_FOLDS = 5\n",
    "\n",
    "MODEL_NAME = 'CMPNN'\n",
    "DATASET_NAME = 'BBBP'"
   ]
  },
  {
   "cell_type": "code",
   "execution_count": null,
   "metadata": {},
   "outputs": [],
   "source": [
    "dataset_config, dataset, model_configurations, model_selector, exp_path = MolRep.construct_dataset(\n",
    "                                                                                            dataset_name = DATASET_NAME,\n",
    "                                                                                            model_name = MODEL_NAME,\n",
    "                                                                                            inner_k = _FOLDS,\n",
    "                                                                                            output_dir=OUTPUT_DIR)"
   ]
  },
  {
   "cell_type": "code",
   "execution_count": null,
   "metadata": {},
   "outputs": [],
   "source": []
  },
  {
   "cell_type": "code",
   "execution_count": null,
   "metadata": {},
   "outputs": [],
   "source": [
    "config_id = 0\n",
    "KFOLD_FOLDER = os.path.join(exp_path, str(_FOLDS) + '_FOLD_MS')\n",
    "exp_config_name = os.path.join(KFOLD_FOLDER, _CONFIG_BASE + str(config_id + 1))\n",
    "config_filename = os.path.join(exp_config_name, _CONFIG_FILENAME)\n",
    "if not os.path.exists(exp_config_name):\n",
    "    os.makedirs(exp_config_name)"
   ]
  },
  {
   "cell_type": "code",
   "execution_count": null,
   "metadata": {},
   "outputs": [],
   "source": []
  },
  {
   "cell_type": "code",
   "execution_count": null,
   "metadata": {},
   "outputs": [],
   "source": [
    "config = model_configurations[config_id]\n",
    "\n",
    "logger = Logger(str(os.path.join(exp_config_name, 'experiment.log')), mode='a')\n",
    "logger.log('Configuration: ' + str(config))"
   ]
  },
  {
   "cell_type": "code",
   "execution_count": null,
   "metadata": {},
   "outputs": [],
   "source": []
  },
  {
   "cell_type": "code",
   "execution_count": null,
   "metadata": {},
   "outputs": [],
   "source": [
    "k_fold_dict = {\n",
    "    'config': config,\n",
    "    'folds': [{} for _ in range(_FOLDS)],\n",
    "    'avg_TR_score': 0.,\n",
    "    'avg_VL_score': 0.,\n",
    "    'std_TR_score': 0.,\n",
    "    'std_VL_score': 0.\n",
    "}"
   ]
  },
  {
   "cell_type": "code",
   "execution_count": null,
   "metadata": {},
   "outputs": [],
   "source": []
  },
  {
   "cell_type": "code",
   "execution_count": null,
   "metadata": {},
   "outputs": [],
   "source": [
    "dataset_getter = MolRep.construct_dataloader(dataset)\n",
    "for k in range(_FOLDS):\n",
    "    dataset_getter.set_inner_k(k)\n",
    "\n",
    "    fold_exp_folder = os.path.join(exp_config_name, 'FOLD_' + str(k + 1))\n",
    "    # Create the experiment object which will be responsible for running a specific experiment\n",
    "    experiment = EndToEndExperiment(config, dataset_config, fold_exp_folder)\n",
    "\n",
    "    training_score, validation_score = experiment.run_valid(dataset_getter, logger)\n",
    "\n",
    "    print('training_score:', training_score, 'validation_score:',validation_score)\n",
    "    logger.log(str(k+1) + ' split, TR Score: ' + str(training_score) +\n",
    "                ' VL Score: ' + str(validation_score))\n",
    "\n",
    "    k_fold_dict['folds'][k]['TR_score'] = training_score\n",
    "    k_fold_dict['folds'][k]['VL_score'] = validation_score\n",
    "\n",
    "tr_scores = np.array([k_fold_dict['folds'][k]['TR_score'] for k in range(_FOLDS)])\n",
    "vl_scores = np.array([k_fold_dict['folds'][k]['VL_score'] for k in range(_FOLDS)])\n",
    "\n",
    "k_fold_dict['avg_TR_score'] = tr_scores.mean()\n",
    "k_fold_dict['std_TR_score'] = tr_scores.std()\n",
    "k_fold_dict['avg_VL_score'] = vl_scores.mean()\n",
    "k_fold_dict['std_VL_score'] = vl_scores.std()\n",
    "\n",
    "logger.log('TR avg is ' + str(k_fold_dict['avg_TR_score']) + ' std is ' + str(k_fold_dict['std_TR_score']) +\n",
    "            ' VL avg is ' + str(k_fold_dict['avg_VL_score']) + ' std is ' + str(k_fold_dict['std_VL_score']))"
   ]
  }
 ]
}