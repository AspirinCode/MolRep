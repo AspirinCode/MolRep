{
 "cells": [
  {
   "cell_type": "code",
   "execution_count": 1,
   "metadata": {},
   "outputs": [],
   "source": [
    "import os\n",
    "import numpy as np\n",
    "\n",
    "from MolRep import MolRep\n",
    "from MolRep.Utils.logger import Logger\n",
    "from MolRep.Utils.config_from_dict import Config\n",
    "from MolRep.Experiments.experiments import EndToEndExperiment"
   ]
  },
  {
   "cell_type": "code",
   "execution_count": 2,
   "metadata": {},
   "outputs": [],
   "source": [
    "MODEL_CONFIG_DIR = '../MolRep/Configs' # Need to set! The directory of Model Configurations files, such as config_CMPNN.yml.\n",
    "DATASET_DIR = '../MolRep/Datasets'     # Need to set! The directory of Datasets downloaded from Google Drive.\n",
    "OUTPUT_DIR = '../Outputs/'\n",
    "\n",
    "# Output file name\n",
    "_CONFIG_BASE = 'config_'\n",
    "_CONFIG_FILENAME = 'config_results.json'\n",
    "\n",
    "# Args\n",
    "_FOLDS = 5\n",
    "MODEL_NAME = 'CMPNN'\n",
    "DATASET_NAME = 'BBBP'"
   ]
  },
  {
   "cell_type": "code",
   "execution_count": 3,
   "metadata": {},
   "outputs": [],
   "source": [
    "dataset_config, dataset, model_configurations, model_selector, exp_path = MolRep.construct_dataset(\n",
    "        dataset_name = DATASET_NAME,\n",
    "        model_name = MODEL_NAME,\n",
    "        inner_k = _FOLDS,\n",
    "        config_dir = MODEL_CONFIG_DIR,\n",
    "        datasets_dir = DATASET_DIR,\n",
    "        output_dir=OUTPUT_DIR\n",
    ")"
   ]
  },
  {
   "cell_type": "code",
   "execution_count": null,
   "metadata": {},
   "outputs": [],
   "source": []
  },
  {
   "cell_type": "code",
   "execution_count": 4,
   "metadata": {},
   "outputs": [],
   "source": [
    "config_id = 0  # the idx of model config since there are more than 100 combinations of hyper-parameters.\n",
    "KFOLD_FOLDER = os.path.join(exp_path, str(_FOLDS) + '_FOLD_MS')\n",
    "exp_config_name = os.path.join(KFOLD_FOLDER, _CONFIG_BASE + str(config_id + 1))\n",
    "config_filename = os.path.join(exp_config_name, _CONFIG_FILENAME)\n",
    "if not os.path.exists(exp_config_name):\n",
    "    os.makedirs(exp_config_name)"
   ]
  },
  {
   "cell_type": "code",
   "execution_count": null,
   "metadata": {},
   "outputs": [],
   "source": []
  },
  {
   "cell_type": "code",
   "execution_count": 5,
   "metadata": {},
   "outputs": [
    {
     "name": "stdout",
     "output_type": "stream",
     "text": [
      "Configuration: {'model': 'CMPNN', 'device': 'cuda', 'batch_size': 50, 'learning_rate': 0.0001, 'l2': 0, 'hidden_size': 300, 'bias': False, 'depth': 3, 'dropout': 0.0, 'activation': 'ReLU', 'undirected': False, 'ffn_hidden_size': 256, 'ffn_num_layers': 2, 'atom_messages': False, 'no_cache': False, 'optimizer': 'Adam', 'scheduler': {'class': 'NoamLR', 'args': {'warmup_epochs': [2.0], 'step_size': 10, 'max_lr': [0.0001], 'init_lr': [1e-05], 'final_lr': [1e-05]}}, 'early_stopper': {'class': 'Patience', 'args': {'patience': 500, 'use_loss': False}}, 'gradient_clipping': None, 'num_epochs': 30, 'num_lrs': 1, 'features_only': False, 'atom_descriptors': 'None', 'use_input_features': False, 'shuffle': True}\n"
     ]
    }
   ],
   "source": [
    "config = model_configurations[config_id]\n",
    "\n",
    "# model configs could be change\n",
    "# for example:\n",
    "# config['device'] = 'cpu' or config['batch_size'] = 32\n",
    "\n",
    "logger = Logger(str(os.path.join(exp_config_name, 'experiment.log')), mode='w')\n",
    "logger.log('Configuration: ' + str(config))"
   ]
  },
  {
   "cell_type": "code",
   "execution_count": null,
   "metadata": {},
   "outputs": [],
   "source": []
  },
  {
   "cell_type": "code",
   "execution_count": 6,
   "metadata": {},
   "outputs": [],
   "source": [
    "k_fold_dict = {\n",
    "    'config': config,\n",
    "    'folds': [{} for _ in range(_FOLDS)],\n",
    "    'avg_TR_score': 0.,\n",
    "    'avg_VL_score': 0.,\n",
    "    'std_TR_score': 0.,\n",
    "    'std_VL_score': 0.\n",
    "}"
   ]
  },
  {
   "cell_type": "code",
   "execution_count": 7,
   "metadata": {},
   "outputs": [
    {
     "name": "stdout",
     "output_type": "stream",
     "text": [
      "Training in Fold: 1\n",
      "[TRAIN] Epoch: 1, train loss: 0.629209 train auc: 0.494840\n",
      "[VALID] Epoch: 1, valid loss: 0.545822 valid auc: 0.604901\n",
      "- Elapsed time: 8.63s , Time estimation in a fold: 4.31min\n",
      "[TRAIN] Epoch: 10, train loss: 0.336984 train auc: 0.895271\n",
      "[VALID] Epoch: 10, valid loss: 0.471833 valid auc: 0.905501\n",
      "- Elapsed time: 2.90s , Time estimation in a fold: 1.45min\n",
      "[TRAIN] Epoch: 20, train loss: 0.245269 train auc: 0.947981\n",
      "[VALID] Epoch: 20, valid loss: 0.446711 valid auc: 0.947861\n",
      "- Elapsed time: 1.88s , Time estimation in a fold: 0.94min\n",
      "[TRAIN] Epoch: 30, train loss: 0.157175 train auc: 0.979015\n",
      "[VALID] Epoch: 30, valid loss: 0.438075 valid auc: 0.959943\n",
      "- Elapsed time: 2.20s , Time estimation in a fold: 1.10min\n",
      "1 split, TR Score: 0.9728590234220575 VL Score: 0.9603956657983163\n",
      "Training in Fold: 2\n",
      "[TRAIN] Epoch: 1, train loss: 0.584148 train auc: 0.515461\n",
      "[VALID] Epoch: 1, valid loss: 0.529779 valid auc: 0.635670\n",
      "- Elapsed time: 2.67s , Time estimation in a fold: 1.33min\n",
      "[TRAIN] Epoch: 10, train loss: 0.249923 train auc: 0.945488\n",
      "[VALID] Epoch: 10, valid loss: 0.447524 valid auc: 0.946502\n",
      "- Elapsed time: 2.42s , Time estimation in a fold: 1.21min\n",
      "[TRAIN] Epoch: 20, train loss: 0.157316 train auc: 0.978179\n",
      "[VALID] Epoch: 20, valid loss: 0.436249 valid auc: 0.961415\n",
      "- Elapsed time: 2.77s , Time estimation in a fold: 1.38min\n",
      "[TRAIN] Epoch: 30, train loss: 0.078426 train auc: 0.991480\n",
      "[VALID] Epoch: 30, valid loss: 0.432031 valid auc: 0.959603\n",
      "- Elapsed time: 3.03s , Time estimation in a fold: 1.51min\n",
      "2 split, TR Score: 0.9808490954366317 VL Score: 0.963189489183373\n",
      "Training in Fold: 3\n",
      "[TRAIN] Epoch: 1, train loss: 0.554743 train auc: 0.593344\n",
      "[VALID] Epoch: 1, valid loss: 0.532313 valid auc: 0.726319\n",
      "- Elapsed time: 2.62s , Time estimation in a fold: 1.31min\n",
      "[TRAIN] Epoch: 10, train loss: 0.225103 train auc: 0.956834\n",
      "[VALID] Epoch: 10, valid loss: 0.441940 valid auc: 0.953902\n",
      "- Elapsed time: 2.07s , Time estimation in a fold: 1.03min\n",
      "[TRAIN] Epoch: 20, train loss: 0.110541 train auc: 0.988616\n",
      "[VALID] Epoch: 20, valid loss: 0.435721 valid auc: 0.954091\n",
      "- Elapsed time: 2.92s , Time estimation in a fold: 1.46min\n",
      "[TRAIN] Epoch: 30, train loss: 0.125421 train auc: 0.986879\n",
      "[VALID] Epoch: 30, valid loss: 0.437186 valid auc: 0.953298\n",
      "- Elapsed time: 2.69s , Time estimation in a fold: 1.34min\n",
      "3 split, TR Score: 0.9877224728671744 VL Score: 0.9633027522935781\n",
      "Training in Fold: 4\n",
      "[TRAIN] Epoch: 1, train loss: 0.558448 train auc: 0.588775\n",
      "[VALID] Epoch: 1, valid loss: 0.533192 valid auc: 0.712425\n",
      "- Elapsed time: 2.38s , Time estimation in a fold: 1.19min\n",
      "[TRAIN] Epoch: 10, train loss: 0.223742 train auc: 0.956596\n",
      "[VALID] Epoch: 10, valid loss: 0.443148 valid auc: 0.953713\n",
      "- Elapsed time: 2.81s , Time estimation in a fold: 1.40min\n",
      "[TRAIN] Epoch: 20, train loss: 0.112434 train auc: 0.987927\n",
      "[VALID] Epoch: 20, valid loss: 0.432773 valid auc: 0.958885\n",
      "- Elapsed time: 2.79s , Time estimation in a fold: 1.39min\n",
      "[TRAIN] Epoch: 30, train loss: 0.090048 train auc: 0.991168\n",
      "[VALID] Epoch: 30, valid loss: 0.430392 valid auc: 0.956016\n",
      "- Elapsed time: 2.92s , Time estimation in a fold: 1.46min\n",
      "4 split, TR Score: 0.9870805772577405 VL Score: 0.9626986823724846\n",
      "Training in Fold: 5\n",
      "[TRAIN] Epoch: 1, train loss: 0.570184 train auc: 0.559258\n",
      "[VALID] Epoch: 1, valid loss: 0.535255 valid auc: 0.696493\n",
      "- Elapsed time: 2.60s , Time estimation in a fold: 1.30min\n",
      "[TRAIN] Epoch: 10, train loss: 0.209573 train auc: 0.962338\n",
      "[VALID] Epoch: 10, valid loss: 0.440383 valid auc: 0.959565\n",
      "- Elapsed time: 3.00s , Time estimation in a fold: 1.50min\n",
      "[TRAIN] Epoch: 20, train loss: 0.101525 train auc: 0.989403\n",
      "[VALID] Epoch: 20, valid loss: 0.439388 valid auc: 0.948918\n",
      "- Elapsed time: 2.90s , Time estimation in a fold: 1.45min\n",
      "[TRAIN] Epoch: 30, train loss: 0.081912 train auc: 0.993428\n",
      "[VALID] Epoch: 30, valid loss: 0.444574 valid auc: 0.951618\n",
      "- Elapsed time: 2.90s , Time estimation in a fold: 1.45min\n",
      "5 split, TR Score: 0.9779839994783324 VL Score: 0.9617170687507078\n",
      "TR avg is 0.9813 std is 0.0056; VL avg is 0.9623 std is 0.0011\n"
     ]
    }
   ],
   "source": [
    "dataset_getter = MolRep.construct_dataloader(dataset)\n",
    "for k in range(_FOLDS):\n",
    "    logger.log(f\"Training in Fold: {k+1}\")\n",
    "    dataset_getter.set_inner_k(k)\n",
    "\n",
    "    fold_exp_folder = os.path.join(exp_config_name, 'FOLD_' + str(k + 1))\n",
    "    # Create the experiment object which will be responsible for running a specific experiment\n",
    "    experiment = EndToEndExperiment(config, dataset_config, fold_exp_folder)\n",
    "\n",
    "    model_path = os.path.join(fold_exp_folder, f\"{MODEL_NAME}_{DATASET_NAME}_fold_{k}.pt\")\n",
    "    training_score, validation_score = experiment.run_valid(dataset_getter, logger, other={'model_path': model_path})\n",
    "\n",
    "    # print('training_score:', training_score, 'validation_score:',validation_score)\n",
    "    logger.log(str(k+1) + ' split, TR Score: ' + str(training_score) +\n",
    "                ' VL Score: ' + str(validation_score))\n",
    "\n",
    "    k_fold_dict['folds'][k]['TR_score'] = training_score\n",
    "    k_fold_dict['folds'][k]['VL_score'] = validation_score\n",
    "\n",
    "tr_scores = np.array([k_fold_dict['folds'][k]['TR_score'] for k in range(_FOLDS)])\n",
    "vl_scores = np.array([k_fold_dict['folds'][k]['VL_score'] for k in range(_FOLDS)])\n",
    "\n",
    "k_fold_dict['avg_TR_score'] = tr_scores.mean()\n",
    "k_fold_dict['std_TR_score'] = tr_scores.std()\n",
    "k_fold_dict['avg_VL_score'] = vl_scores.mean()\n",
    "k_fold_dict['std_VL_score'] = vl_scores.std()\n",
    "\n",
    "\n",
    "log_str = f\"TR avg is %.4f std is %.4f; VL avg is %.4f std is %.4f\" % (\n",
    "            k_fold_dict['avg_TR_score'], k_fold_dict['std_TR_score'], k_fold_dict['avg_VL_score'], k_fold_dict['std_VL_score']\n",
    "        )\n",
    "logger.log(log_str)"
   ]
  },
  {
   "cell_type": "code",
   "execution_count": null,
   "metadata": {},
   "outputs": [],
   "source": []
  }
 ],
 "metadata": {
  "kernelspec": {
   "display_name": "Python [conda env:MolRep]",
   "language": "python",
   "name": "conda-env-MolRep-py"
  },
  "language_info": {
   "codemirror_mode": {
    "name": "ipython",
    "version": 3
   },
   "file_extension": ".py",
   "mimetype": "text/x-python",
   "name": "python",
   "nbconvert_exporter": "python",
   "pygments_lexer": "ipython3",
   "version": "3.6.11"
  }
 },
 "nbformat": 4,
 "nbformat_minor": 2
}
