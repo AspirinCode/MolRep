{
 "cells": [
  {
   "cell_type": "code",
   "execution_count": null,
   "metadata": {},
   "outputs": [],
   "source": [
    "from MolRep import MolRep"
   ]
  },
  {
   "cell_type": "markdown",
   "metadata": {},
   "source": [
    "## Construct Datasets and Dataloader"
   ]
  },
  {
   "cell_type": "code",
   "execution_count": null,
   "metadata": {},
   "outputs": [],
   "source": [
    "basic_configs, dataset_configs, data, logger = MolRep.construct_training_data(\n",
    "                                            dataset_name='BBBP', model_name='CMPNN', k_fold = 5)"
   ]
  },
  {
   "cell_type": "code",
   "execution_count": null,
   "metadata": {},
   "outputs": [],
   "source": []
  },
  {
   "cell_type": "markdown",
   "metadata": {},
   "source": [
    "## Training"
   ]
  },
  {
   "cell_type": "code",
   "execution_count": null,
   "metadata": {},
   "outputs": [],
   "source": [
    "for fold_i in range(5):\n",
    "\n",
    "    model_configs, model = MolRep.construct_model(\n",
    "                        model_name = 'CMPNN',  model_config = 'MolRep/Configs/config_CMPNN.yml', \n",
    "                        basic_configs = basic_configs, dataset_configs = dataset_configs, logger = logger)\n",
    "\n",
    "    # Optimizer\n",
    "    optimizer = MolRep.construct_optimizer(model, model_configs)\n",
    "\n",
    "    # Early_stopper\n",
    "    stopper = MolRep.construct_stopper(model_configs)\n",
    "\n",
    "    # Clipping\n",
    "    clipping = MolRep.construct_clipping(model_configs)\n",
    "\n",
    "    # Scheduler\n",
    "    scheduler = MolRep.construct_scheduler(optimizer, model_configs, basic_configs)\n",
    "\n",
    "    # Loss function\n",
    "    loss_fn = MolRep.construct_loss_func(dataset_configs, basic_configs)\n",
    "\n",
    "    # Trainer\n",
    "    net = MolRep.construct_trainer(model, basic_configs, dataset_configs, model_configs, loss_fn)\n",
    "\n",
    "    train_loader, test_loader, features_scaler, scaler = data[str(fold_i)]\n",
    "    model, metric, loss = MolRep.training(net, train_loader, \n",
    "                                          test_loader=test_loader, \n",
    "                                          optimizer=optimizer, \n",
    "                                          scheduler=scheduler, \n",
    "                                          clipping=clipping, \n",
    "                                          stopper=stopper, \n",
    "                                          scaler=scaler, \n",
    "                                          logger=logger)\n",
    "    MolRep.save_model('CMPNN_fold_{fold_i}.pt', model, scaler, features_scaler)"
   ]
  },
  {
   "cell_type": "code",
   "execution_count": null,
   "metadata": {},
   "outputs": [],
   "source": []
  },
  {
   "cell_type": "code",
   "execution_count": null,
   "metadata": {},
   "outputs": [],
   "source": []
  }
 ],
 "metadata": {
  "kernelspec": {
   "display_name": "Python [conda env:mol_explainer]",
   "language": "python",
   "name": "conda-env-mol_explainer-py"
  },
  "language_info": {
   "codemirror_mode": {
    "name": "ipython",
    "version": 3
   },
   "file_extension": ".py",
   "mimetype": "text/x-python",
   "name": "python",
   "nbconvert_exporter": "python",
   "pygments_lexer": "ipython3",
   "version": "3.6.11"
  }
 },
 "nbformat": 4,
 "nbformat_minor": 2
}