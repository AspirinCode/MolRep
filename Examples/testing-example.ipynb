{
 "cells": [
  {
   "cell_type": "code",
   "execution_count": null,
   "metadata": {},
   "outputs": [],
   "source": [
    "from MolRep import MolRep"
   ]
  },
  {
   "cell_type": "code",
   "execution_count": null,
   "metadata": {},
   "outputs": [],
   "source": []
  },
  {
   "cell_type": "markdown",
   "metadata": {},
   "source": [
    "## Construct Datasets and Dataloader"
   ]
  },
  {
   "cell_type": "code",
   "execution_count": null,
   "metadata": {},
   "outputs": [],
   "source": [
    "basic_configs, dataset_configs, test_loader, logger = MolRep.construct_predicting_data(\n",
    "                                                dataset_name='BBBP', model_name = 'CMPNN')"
   ]
  },
  {
   "cell_type": "code",
   "execution_count": null,
   "metadata": {},
   "outputs": [],
   "source": []
  },
  {
   "cell_type": "markdown",
   "metadata": {},
   "source": [
    "## Construct Pretrained Model"
   ]
  },
  {
   "cell_type": "code",
   "execution_count": null,
   "metadata": {},
   "outputs": [],
   "source": [
    "model_configs, model = MolRep.construct_model(\n",
    "                    model_name = 'CMPNN',  model_config = 'MolRep/Configs/config_CMPNN.yml', \n",
    "                    pretrained=True, pretrained_path='MolRep/Outputs/CMPNN.pt',\n",
    "                    basic_configs = basic_configs, dataset_configs = dataset_configs, logger = logger)\n",
    "\n",
    "\n",
    "# Loss function\n",
    "loss_fn = MolRep.construct_loss_func(dataset_configs, basic_configs)\n",
    "\n",
    "# Trainer\n",
    "net = MolRep.construct_trainer(model, basic_configs, dataset_configs, model_configs, loss_fn)"
   ]
  },
  {
   "cell_type": "code",
   "execution_count": null,
   "metadata": {},
   "outputs": [],
   "source": []
  },
  {
   "cell_type": "markdown",
   "metadata": {},
   "source": [
    "## Testing"
   ]
  },
  {
   "cell_type": "code",
   "execution_count": null,
   "metadata": {},
   "outputs": [],
   "source": [
    "scaler = MolRep.load_scaler('MolRep/Outputs/CMPNN.pt')\n",
    "y_preds, metric = MolRep.predict(net, test_loader, scaler)"
   ]
  }
 ],
 "metadata": {
  "kernelspec": {
   "display_name": "Python [conda env:mol_explainer]",
   "language": "python",
   "name": "conda-env-mol_explainer-py"
  },
  "language_info": {
   "codemirror_mode": {
    "name": "ipython",
    "version": 3
   },
   "file_extension": ".py",
   "mimetype": "text/x-python",
   "name": "python",
   "nbconvert_exporter": "python",
   "pygments_lexer": "ipython3",
   "version": "3.6.11"
  }
 },
 "nbformat": 4,
 "nbformat_minor": 2
}
