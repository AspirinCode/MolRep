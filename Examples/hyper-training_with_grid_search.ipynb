{
 "metadata": {
  "language_info": {
   "codemirror_mode": {
    "name": "ipython",
    "version": 3
   },
   "file_extension": ".py",
   "mimetype": "text/x-python",
   "name": "python",
   "nbconvert_exporter": "python",
   "pygments_lexer": "ipython3",
   "version": 3
  },
  "orig_nbformat": 2
 },
 "nbformat": 4,
 "nbformat_minor": 2,
 "cells": [
  {
   "cell_type": "code",
   "execution_count": null,
   "metadata": {},
   "outputs": [],
   "source": [
    "from MolRep.EndToEnd_experiments import endtoend"
   ]
  },
  {
   "cell_type": "code",
   "execution_count": null,
   "metadata": {},
   "outputs": [],
   "source": []
  },
  {
   "cell_type": "code",
   "execution_count": null,
   "metadata": {},
   "outputs": [],
   "source": [
    "# training with defined data\n",
    "\n",
    "OUTPUT_DIR = 'Outputs/'\n",
    "_CONFIG_BASE = 'config_'\n",
    "_CONFIG_FILENAME = 'config_results.json'\n",
    "_OUTER_FOLDS = 5\n",
    "_INNER_FOLDS = 5\n",
    "\n",
    "MODEL_NAME = 'CMPNN'\n",
    "DATASET_NAME = 'BBBP'\n",
    "\n",
    "config_file = f'MolRep/Configs/config_{MODEL_NAME}.yml'"
   ]
  },
  {
   "cell_type": "code",
   "execution_count": null,
   "metadata": {},
   "outputs": [],
   "source": [
    "endtoend(config_file, DATASET_NAME,\n",
    "         outer_k=_OUTER_FOLDS, outer_processes=1,\n",
    "         inner_k=_INNER_FOLDS, inner_processes=1,\n",
    "         output_dir=OUTPUT_DIR)"
   ]
  }
 ]
}